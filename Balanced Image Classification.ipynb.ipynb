{
 "cells": [
  {
   "cell_type": "code",
   "execution_count": null,
   "id": "ae90552d-0d4a-4b69-ad0d-7ff41ffdb3fd",
   "metadata": {},
   "outputs": [],
   "source": [
    "import os\n",
    "import pickle\n",
    "import argparse\n",
    "import numpy as np\n",
    "import pandas as pd\n",
    "\n",
    "\n",
    "from model_zoo import get_image_classifier, split_test\n",
    "from data_zoo import get_image_dataset\n",
    "from atypicality import GMMAtypicalityEstimator\n",
    "%load_ext autoreload\n",
    "%autoreload 2\n",
    "def config():\n",
    "    parser = argparse.ArgumentParser()\n",
    "    parser.add_argument(\"--dataset_name\", type=str, default=\"imagenet\")\n",
    "    parser.add_argument(\"--model_name\", type=str, default=\"resnet50\")\n",
    "    parser.add_argument(\"--output-dir\", type=str, default=\"./outputs\")\n",
    "    parser.add_argument(\"--batch-size\", type=int, default=64)\n",
    "    parser.add_argument(\"--device\", type=str, default=\"cuda\")\n",
    "    parser.add_argument(\"-f\")\n",
    "    return parser.parse_args()\n",
    "\n",
    "args = config()\n",
    "os.makedirs(args.output_dir, exist_ok=True)"
   ]
  },
  {
   "cell_type": "code",
   "execution_count": null,
   "id": "f425a9ec-b93b-4835-82cf-01f981a66b62",
   "metadata": {},
   "outputs": [],
   "source": [
    "model, preprocess = get_image_classifier(\"resnet50\", device=args.device)\n",
    "train_dataset, test_dataset = get_image_dataset(\"imagenet\", preprocess=preprocess)\n"
   ]
  },
  {
   "cell_type": "code",
   "execution_count": null,
   "id": "3554a99f-cbef-48a3-905f-3018541cd212",
   "metadata": {},
   "outputs": [],
   "source": [
    "train_features, train_logits, train_labels = model.run_and_cache_outputs(train_dataset, args.batch_size, args.output_dir)\n",
    "test_features, test_logits, test_labels = model.run_and_cache_outputs(test_dataset, args.batch_size, args.output_dir)"
   ]
  },
  {
   "cell_type": "code",
   "execution_count": null,
   "id": "7fce150c-e1be-4104-9a18-8afb02aba59f",
   "metadata": {},
   "outputs": [],
   "source": [
    "# Splitting the test set into 2 sets: Calibration and Evaluation sets.\n",
    "test_labels, test_features, test_logits, _, calib_labels, calib_features, calib_logits, _ = split_test(test_labels, test_features, test_logits, split=0.5, seed=1)"
   ]
  },
  {
   "cell_type": "code",
   "execution_count": null,
   "id": "d553a024-4a94-4976-a805-29b50da4d96c",
   "metadata": {},
   "outputs": [],
   "source": [
    "# Atypicality Estimation\n",
    "atypicality_estimator = GMMAtypicalityEstimator()\n",
    "\n",
    "# Fit the atypicality estaimtor\n",
    "atypicality_estimator.fit(train_features, train_labels)\n",
    "\n",
    "# Predict the atypicality\n",
    "test_atypicality = atypicality_estimator.predict(test_features).reshape((-1, 1))\n",
    "calib_atypicality = atypicality_estimator.predict(calib_features).reshape((-1, 1))\n"
   ]
  },
  {
   "cell_type": "code",
   "execution_count": null,
   "id": "18055508-3c73-463c-873d-54d948268934",
   "metadata": {},
   "outputs": [],
   "source": [
    "from calibration import TemperatureScaler, AtypicalityAwareCalibrator\n",
    "from scipy.special import softmax\n",
    "from utils.calibration import compute_calibration \n",
    "from utils.plots import get_fig_records\n",
    "\n",
    "metadata = {\"model\": args.model_name, \"dataset\": args.dataset_name}\n",
    "\n",
    "# Vanilla Model\n",
    "probs = softmax(test_logits, axis=1)\n",
    "accuracy = (np.argmax(test_logits, axis=1) == test_labels).mean()\n",
    "print(f\"Accuracy: {accuracy}\")\n",
    "\n",
    "# Temperature Scaling\n",
    "ts = TemperatureScaler()\n",
    "ts.fit(calib_logits, calib_labels)\n",
    "\n",
    "# AAR\n",
    "aar_calib = AtypicalityAwareCalibrator()\n",
    "aar_calib.fit(calib_logits, calib_atypicality, calib_labels, max_iters=1500)\n",
    "\n",
    "prob_info = {\n",
    "    \"probs\": {\"Uncalibrated\": probs,\n",
    "              \"Temp. Scaling\": ts.predict_proba(test_logits),\n",
    "              \"Atypicality-Aware\": aar_calib.predict_proba(test_logits, test_atypicality)},\n",
    "    \"input_atypicality\": test_atypicality,\n",
    "    \"labels\": test_labels\n",
    "}\n",
    "\n",
    "all_records = get_fig_records(prob_info, N_groups=5, **metadata)"
   ]
  },
  {
   "cell_type": "code",
   "execution_count": null,
   "id": "b6117e95-9366-48fe-9d26-76f6c32e0872",
   "metadata": {},
   "outputs": [],
   "source": [
    "from matplotlib.ticker import FormatStrFormatter\n",
    "import pandas as pd\n",
    "import matplotlib.pyplot as plt\n",
    "import seaborn as sns\n",
    "\n",
    "data = pd.DataFrame(all_records)"
   ]
  },
  {
   "cell_type": "code",
   "execution_count": null,
   "id": "9fa84214-52f8-4390-9654-288b2fbef50f",
   "metadata": {},
   "outputs": [],
   "source": [
    "sns.set_context(\"paper\", font_scale=2)  # Adjust the font_scale as needed\n",
    "fig, axs = plt.subplots(2, 1, figsize=(5, 4.2))\n",
    "maps = {\"Atypicality-Aware\": \"AAR(Ours)\", \"Temp. Scaling\": \"TS\"}\n",
    "data[\"Recalibration\"] = data[\"Recalibration\"].apply(lambda x: maps[x] if x in maps else x)\n",
    "\n",
    "# Plot ECE vs quantile\n",
    "sns.lineplot(x='quantile', y='ECE', hue='Recalibration', linewidth=2.5, errorbar=('ci', 95), data=data, ax=axs[0], legend=True)\n",
    "barplot = sns.barplot(x='Recalibration', y='Accuracy', hue='Recalibration', dodge=False, errorbar=None, linewidth=2.5, data=data, ax=axs[1])\n",
    "\n",
    "for p in barplot.patches:\n",
    "    barplot.annotate(format(p.get_height(), '.2f'), (p.get_x() + p.get_width() / 2., p.get_height()), ha='center', va='baseline', color=\"white\", xytext=(0, -20), textcoords='offset points')\n",
    "\n",
    "# Format legends and axes\n",
    "handles, labels = axs[0].get_legend_handles_labels()\n",
    "axs[0].get_legend().remove()\n",
    "axs[0].set_xlabel(\"Input Atypicality Quantile\")\n",
    "axs[1].set_xticklabels([])\n",
    "axs[1].set_xlabel(\"\")\n",
    "for handle in handles:\n",
    "    handle.set_linewidth(6)  # Set the desired line width\n",
    "\n",
    "fig.legend(handles=handles, labels=labels, fontsize=15, loc=\"upper center\", bbox_to_anchor=(0.5, 0.1), fancybox=True, shadow=True, ncol=len(labels))\n",
    "fig.tight_layout()\n",
    "fig.savefig(os.path.join(args.output_dir, f\"{args.dataset_name}_{args.model_name}_llmfigure.pdf\"))"
   ]
  },
  {
   "cell_type": "code",
   "execution_count": null,
   "id": "7f1ddce3-ccac-4428-bc7a-4f6b18375e7a",
   "metadata": {},
   "outputs": [],
   "source": []
  }
 ],
 "metadata": {
  "kernelspec": {
   "display_name": "Python 3 (ipykernel)",
   "language": "python",
   "name": "python3"
  },
  "language_info": {
   "codemirror_mode": {
    "name": "ipython",
    "version": 3
   },
   "file_extension": ".py",
   "mimetype": "text/x-python",
   "name": "python",
   "nbconvert_exporter": "python",
   "pygments_lexer": "ipython3",
   "version": "3.11.6"
  }
 },
 "nbformat": 4,
 "nbformat_minor": 5
}
